{
 "cells": [
  {
   "cell_type": "code",
   "execution_count": 144,
   "metadata": {},
   "outputs": [],
   "source": [
    "import numpy as np\n",
    "import pandas as pd\n",
    "from sklearn.model_selection import train_test_split\n",
    "from sklearn.ensemble import RandomForestClassifier\n",
    "from sklearn.linear_model import LogisticRegression\n",
    "from sklearn.neighbors import KNeighborsClassifier\n",
    "from sklearn.naive_bayes import GaussianNB\n",
    "from sklearn.model_selection import GridSearchCV\n",
    "from sklearn import svm\n",
    "from scipy import stats\n",
    "import math\n",
    "import matplotlib.pyplot as plt"
   ]
  },
  {
   "cell_type": "markdown",
   "metadata": {},
   "source": [
    "## Urban Traffic in Sao Paulo Dataset\n",
    "### Cleaning up the data:"
   ]
  },
  {
   "cell_type": "code",
   "execution_count": 145,
   "metadata": {},
   "outputs": [
    {
     "name": "stdout",
     "output_type": "stream",
     "text": [
      "[[ 0.   0.   0.  ...  0.   0.   4.1]\n",
      " [ 0.   0.   0.  ...  0.   0.   6.6]\n",
      " [ 0.   0.   0.  ...  0.   0.   8.7]\n",
      " ...\n",
      " [ 1.   0.   0.  ...  0.   0.  17.7]\n",
      " [ 0.   4.   0.  ...  1.   0.  17.4]\n",
      " [ 0.   0.   0.  ...  0.   0.  12.1]]\n"
     ]
    }
   ],
   "source": [
    "df = pd.read_csv('Behavior of the urban traffic of the city of Sao Paulo in Brazil.csv', delimiter=';')\n",
    "\n",
    "df[\"Slowness in traffic (%)\"] = df[\"Slowness in traffic (%)\"].map(lambda x: x.replace(',', '.')) \n",
    "time_range = df[\"Hour (Coded)\"].max() - df[\"Hour (Coded)\"].min()\n",
    "df[\"Time of Day\"] = df[\"Hour (Coded)\"].map(lambda x: 1 if x <= math.ceil(time_range/2) else -1)\n",
    "df.drop(columns = [\"Hour (Coded)\"], inplace = True)\n",
    "df[\"Slowness in traffic (%)\"] = df[\"Slowness in traffic (%)\"].astype(float)\n",
    "np_arr = df.values\n",
    "\n",
    "X = np_arr[:, :-1]\n",
    "y = np_arr[:, -1]\n"
   ]
  },
  {
   "cell_type": "markdown",
   "metadata": {},
   "source": [
    "## Banknote Authentication Dataset\n",
    "### Cleaning up the data:"
   ]
  },
  {
   "cell_type": "code",
   "execution_count": 147,
   "metadata": {},
   "outputs": [],
   "source": [
    "banknote_df = pd.read_csv('data_banknote_authentication.txt', header = None,\n",
    "            names = [\"Variance\", \"Skewness\", \"Curtosis\", \"Entropy\", \"Label\"])\n",
    "banknote_df[\"Label\"] = banknote_df[\"Label\"].map(lambda x: x if x==1 else -1) \n",
    "banknote_arr = banknote_df.values\n",
    "\n",
    "X = banknote_arr[:, :-1]\n",
    "y = banknote_arr[:, -1]"
   ]
  },
  {
   "cell_type": "markdown",
   "metadata": {},
   "source": [
    "### 80/20 Training/Testing split\n",
    "### Variable hyperparameters: \n",
    "    n_estimators: 10, 20, 30, 40, 50, 60, 70, 80, 90, 100, 110, 120\n",
    "    max_depth: 1, 2, 3, 4, 5"
   ]
  },
  {
   "cell_type": "code",
   "execution_count": 149,
   "metadata": {},
   "outputs": [],
   "source": [
    "X_train, X_test, y_train, y_test = train_test_split(X, y, test_size=0.20)\n",
    "\n",
    "n_list = list(range(10,121,10))\n",
    "depth_list = list(range(1,6))\n",
    "parameters = {'n_estimators': n_list, 'max_depth': depth_list}\n",
    "\n",
    "rfc = RandomForestClassifier()\n",
    "search = GridSearchCV(rfc, parameters, cv=5)\n",
    "search.fit(X_train, y_train)\n",
    "\n",
    "best_depth, best_n = search.best_params_\n",
    "best_params = search.best_params_\n",
    "best_n = best_params['n_estimators']\n",
    "best_depth = best_params['max_depth']\n"
   ]
  },
  {
   "cell_type": "markdown",
   "metadata": {},
   "source": [
    "### 50/50 Training/Testing split\n",
    "### Variable hyperparameters: \n",
    "    n_estimators: 10, 20, 30, 40, 50, 60, 70, 80, 90, 100, 110, 120\n",
    "    max_depth: 1, 2, 3, 4, 5"
   ]
  },
  {
   "cell_type": "code",
   "execution_count": 150,
   "metadata": {},
   "outputs": [],
   "source": [
    "X_train, X_test, y_train, y_test = train_test_split(X, y, test_size=0.50)\n",
    "\n",
    "n_list = list(range(10,121,10))\n",
    "depth_list = list(range(1,6))\n",
    "parameters = {'n_estimators': n_list, 'max_depth': depth_list}\n",
    "\n",
    "rfc = RandomForestClassifier()\n",
    "search = GridSearchCV(rfc, parameters, cv=5)\n",
    "search.fit(X_train, y_train)\n",
    "\n",
    "best_depth, best_n = search.best_params_\n",
    "best_params = search.best_params_\n",
    "best_n = best_params['n_estimators']\n",
    "best_depth = best_params['max_depth']"
   ]
  },
  {
   "cell_type": "markdown",
   "metadata": {},
   "source": [
    "### 20/80 Training/Testing split\n",
    "### Variable hyperparameters: \n",
    "    n_estimators: 10, 20, 30, 40, 50, 60, 70, 80, 90, 100, 110, 120\n",
    "    max_depth: 1, 2, 3, 4, 5"
   ]
  },
  {
   "cell_type": "code",
   "execution_count": 151,
   "metadata": {},
   "outputs": [],
   "source": [
    "X_train, X_test, y_train, y_test = train_test_split(X, y, test_size=0.80)\n",
    "\n",
    "n_list = list(range(10,121,10))\n",
    "depth_list = list(range(1,6))\n",
    "parameters = {'n_estimators': n_list, 'max_depth': depth_list}\n",
    "\n",
    "rfc = RandomForestClassifier()\n",
    "search = GridSearchCV(rfc, parameters, cv=5)\n",
    "search.fit(X_train, y_train)\n",
    "\n",
    "best_depth, best_n = search.best_params_\n",
    "best_params = search.best_params_\n",
    "best_n = best_params['n_estimators']\n",
    "best_depth = best_params['max_depth']"
   ]
  },
  {
   "cell_type": "markdown",
   "metadata": {},
   "source": [
    "## TODO: Logistic Regression + KNN"
   ]
  },
  {
   "cell_type": "code",
   "execution_count": null,
   "metadata": {},
   "outputs": [],
   "source": [
    "\n",
    "clf = svm.LinearSVC()\n",
    "clf.fit(X_train, y_train)\n",
    "clf.score(X_test, y_test)\n",
    "\n",
    "\n",
    "clf = LogisticRegression().fit(X_train, y_train)\n",
    "\n",
    "\n",
    "neigh = KNeighborsClassifier(n_neighbors=10).fit(X_train, y_train)\n",
    "neigh.score(X_test, y_test)\n"
   ]
  },
  {
   "cell_type": "markdown",
   "metadata": {},
   "source": [
    "## Unnecessary"
   ]
  },
  {
   "cell_type": "code",
   "execution_count": null,
   "metadata": {},
   "outputs": [],
   "source": [
    "\n",
    "'''\n",
    "fig, axs = plt.subplots(2, 2, figsize=(8,8))\n",
    "\n",
    "axs[0, 0].hist(X[:, 0], color = 'mediumvioletred')\n",
    "axs[0, 0].set_title('Distribution of Feature 1')\n",
    "axs[0, 1].hist(X[:, 1], color = 'darkturquoise')\n",
    "axs[0, 1].set_title('Distribution of Feature 2')\n",
    "axs[1, 0].hist(X[:, 2], color = 'darkorchid')\n",
    "axs[1, 0].set_title('Distribution of Feature 3')\n",
    "axs[1, 1].hist(X[:, 3], color = 'chartreuse')\n",
    "axs[1, 1].set_title('Distribution of Feature 4')\n",
    "\n",
    "plt.show()\n",
    "k2, p = stats.normaltest(X_train)\n",
    "print(p)'''"
   ]
  }
 ],
 "metadata": {
  "kernelspec": {
   "display_name": "Python 3",
   "language": "python",
   "name": "python3"
  },
  "language_info": {
   "codemirror_mode": {
    "name": "ipython",
    "version": 3
   },
   "file_extension": ".py",
   "mimetype": "text/x-python",
   "name": "python",
   "nbconvert_exporter": "python",
   "pygments_lexer": "ipython3",
   "version": "3.6.5"
  }
 },
 "nbformat": 4,
 "nbformat_minor": 2
}
