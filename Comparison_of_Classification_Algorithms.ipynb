{
 "cells": [
  {
   "cell_type": "code",
   "execution_count": 26,
   "metadata": {},
   "outputs": [],
   "source": [
    "import numpy as np\n",
    "import pandas as pd\n",
    "from sklearn.model_selection import train_test_split\n",
    "import math"
   ]
  },
  {
   "cell_type": "code",
   "execution_count": 40,
   "metadata": {},
   "outputs": [
    {
     "name": "stdout",
     "output_type": "stream",
     "text": [
      "[[ 0.   0.   0.  ...  0.   0.   4.1]\n",
      " [ 0.   0.   0.  ...  0.   0.   6.6]\n",
      " [ 0.   0.   0.  ...  0.   0.   8.7]\n",
      " ...\n",
      " [ 1.   0.   0.  ...  0.   0.  17.7]\n",
      " [ 0.   4.   0.  ...  1.   0.  17.4]\n",
      " [ 0.   0.   0.  ...  0.   0.  12.1]]\n"
     ]
    },
    {
     "data": {
      "text/plain": [
       "'X_train, X_test, y_train, y_test = train_test_split(\\n...     X, y, test_size=0.33, random_state=42)'"
      ]
     },
     "execution_count": 40,
     "metadata": {},
     "output_type": "execute_result"
    }
   ],
   "source": [
    "df = pd.read_csv('Behavior of the urban traffic of the city of Sao Paulo in Brazil.csv', delimiter=';')\n",
    "#print(df[\"Slowness in traffic (%)\"])\n",
    "df[\"Slowness in traffic (%)\"] = df[\"Slowness in traffic (%)\"].map(lambda x: x.replace(',', '.')) \n",
    "time_range = df[\"Hour (Coded)\"].max() - df[\"Hour (Coded)\"].min()\n",
    "df[\"Time of Day\"] = df[\"Hour (Coded)\"].map(lambda x: 1 if x <= math.ceil(time_range/2) else -1)\n",
    "df.drop(columns = [\"Hour (Coded)\"], inplace = True)\n",
    "df[\"Slowness in traffic (%)\"] = df[\"Slowness in traffic (%)\"].astype(float)\n",
    "np_arr = df.values\n",
    "\n",
    "X = np_arr[:, :-1]\n",
    "y = np_arr[:, -1]\n",
    "print(X)\n",
    "X_train, X_test, y_train, y_test = train_test_split(X, y, test_size=0.20, random_state=42)\n"
   ]
  },
  {
   "cell_type": "code",
   "execution_count": null,
   "metadata": {},
   "outputs": [],
   "source": []
  }
 ],
 "metadata": {
  "kernelspec": {
   "display_name": "Python 3",
   "language": "python",
   "name": "python3"
  },
  "language_info": {
   "codemirror_mode": {
    "name": "ipython",
    "version": 3
   },
   "file_extension": ".py",
   "mimetype": "text/x-python",
   "name": "python",
   "nbconvert_exporter": "python",
   "pygments_lexer": "ipython3",
   "version": "3.6.5"
  }
 },
 "nbformat": 4,
 "nbformat_minor": 2
}
