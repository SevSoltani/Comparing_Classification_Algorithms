{
 "cells": [
  {
   "cell_type": "code",
   "execution_count": 1,
   "metadata": {},
   "outputs": [],
   "source": [
    "import numpy as np\n",
    "import pandas as pd\n",
    "from sklearn.model_selection import train_test_split\n",
    "from sklearn.ensemble import RandomForestClassifier\n",
    "from sklearn.linear_model import LogisticRegression\n",
    "from sklearn.neighbors import KNeighborsClassifier\n",
    "from sklearn.naive_bayes import GaussianNB\n",
    "from sklearn.model_selection import GridSearchCV\n",
    "from sklearn import svm\n",
    "from sklearn.svm import SVC\n",
    "from scipy import stats\n",
    "import math\n",
    "import matplotlib.pyplot as plt"
   ]
  },
  {
   "cell_type": "markdown",
   "metadata": {},
   "source": [
    "## Urban Traffic in Sao Paulo Dataset\n",
    "### Cleaning up the data:"
   ]
  },
  {
   "cell_type": "code",
   "execution_count": 154,
   "metadata": {},
   "outputs": [],
   "source": [
    "df = pd.read_csv('Behavior of the urban traffic of the city of Sao Paulo in Brazil.csv', delimiter=';')\n",
    "\n",
    "df[\"Slowness in traffic (%)\"] = df[\"Slowness in traffic (%)\"].map(lambda x: x.replace(',', '.')) \n",
    "time_range = df[\"Hour (Coded)\"].max() - df[\"Hour (Coded)\"].min()\n",
    "df[\"Time of Day\"] = df[\"Hour (Coded)\"].map(lambda x: 1 if x <= math.ceil(time_range/2) else -1)\n",
    "df.drop(columns = [\"Hour (Coded)\"], inplace = True)\n",
    "df[\"Slowness in traffic (%)\"] = df[\"Slowness in traffic (%)\"].astype(float)\n",
    "np_arr = df.values\n",
    "\n",
    "X = np_arr[:, :-1]\n",
    "y = np_arr[:, -1]\n"
   ]
  },
  {
   "cell_type": "markdown",
   "metadata": {},
   "source": [
    "## Banknote Authentication Dataset\n",
    "### Cleaning up the data:"
   ]
  },
  {
   "cell_type": "code",
   "execution_count": 2,
   "metadata": {},
   "outputs": [],
   "source": [
    "banknote_df = pd.read_csv('data_banknote_authentication.txt', header = None,\n",
    "            names = [\"Variance\", \"Skewness\", \"Curtosis\", \"Entropy\", \"Label\"])\n",
    "banknote_df[\"Label\"] = banknote_df[\"Label\"].map(lambda x: x if x==1 else -1) \n",
    "banknote_arr = banknote_df.values\n",
    "\n",
    "X = banknote_arr[:, :-1]\n",
    "y = banknote_arr[:, -1]"
   ]
  },
  {
   "cell_type": "markdown",
   "metadata": {},
   "source": [
    "### 80/20 Training/Testing split\n",
    "### Variable hyperparameters: \n",
    "    n_estimators: 10, 20, 30, 40, 50, 60, 70, 80, 90, 100, 110, 120\n",
    "    max_depth: 1, 2, 3, 4, 5"
   ]
  },
  {
   "cell_type": "code",
   "execution_count": 149,
   "metadata": {},
   "outputs": [],
   "source": [
    "X_train, X_test, y_train, y_test = train_test_split(X, y, test_size=0.20)\n",
    "\n",
    "n_list = list(range(10,121,10))\n",
    "depth_list = list(range(1,6))\n",
    "parameters = {'n_estimators': n_list, 'max_depth': depth_list}\n",
    "\n",
    "rfc = RandomForestClassifier()\n",
    "search = GridSearchCV(rfc, parameters, cv=5)\n",
    "search.fit(X_train, y_train)\n",
    "\n",
    "best_depth, best_n = search.best_params_\n",
    "best_params = search.best_params_\n",
    "best_n = best_params['n_estimators']\n",
    "best_depth = best_params['max_depth']\n"
   ]
  },
  {
   "cell_type": "markdown",
   "metadata": {},
   "source": [
    "### 50/50 Training/Testing split\n",
    "### Variable hyperparameters: \n",
    "    n_estimators: 10, 20, 30, 40, 50, 60, 70, 80, 90, 100, 110, 120\n",
    "    max_depth: 1, 2, 3, 4, 5"
   ]
  },
  {
   "cell_type": "markdown",
   "metadata": {},
   "source": [
    "### 20/80 Training/Testing split\n",
    "### Variable hyperparameters: \n",
    "    max_features: 1, 2, 3\n",
    "    "
   ]
  },
  {
   "cell_type": "code",
   "execution_count": 10,
   "metadata": {},
   "outputs": [],
   "source": [
    "X_train, X_test, y_train, y_test = train_test_split(X, y, test_size=0.20)\n",
    "\n",
    "set_size = [1, 2, 3]\n",
    "num_trees = 1024\n",
    "parameters = {'max_features': set_size}\n",
    "\n",
    "rfc = RandomForestClassifier(n_estimators = num_trees)\n",
    "search = GridSearchCV(rfc, parameters, cv=5)\n",
    "search.fit(X_train, y_train)\n",
    "\n",
    "best_params = search.best_params_\n",
    "print(best_params)\n",
    "print(np.mean(search.cv_results_['mean_train_score']))\n",
    "print(np.mean(search.cv_results_['mean_test_score']))\n",
    "print('')\n",
    "\n",
    "\n",
    "\n",
    "\n",
    "X_train, X_test, y_train, y_test = train_test_split(X, y, test_size=0.50)\n",
    "\n",
    "rfc = RandomForestClassifier(n_estimators = num_trees)\n",
    "search = GridSearchCV(rfc, parameters, cv=5)\n",
    "search.fit(X_train, y_train)\n",
    "\n",
    "best_params = search.best_params_\n",
    "print(best_params)\n",
    "print(np.mean(search.cv_results_['mean_train_score']))\n",
    "print(np.mean(search.cv_results_['mean_test_score']))\n",
    "print('')\n",
    "\n",
    "\n",
    "\n",
    "X_train, X_test, y_train, y_test = train_test_split(X, y, test_size=0.80)\n",
    "\n",
    "rfc = RandomForestClassifier(n_estimators = num_trees)\n",
    "search = GridSearchCV(rfc, parameters, cv=5)\n",
    "search.fit(X_train, y_train)\n",
    "\n",
    "best_params = search.best_params_\n",
    "print(best_params)\n",
    "print(np.mean(search.cv_results_['mean_train_score']))\n",
    "print(np.mean(search.cv_results_['mean_test_score']))\n",
    "print('')\n"
   ]
  },
  {
   "cell_type": "markdown",
   "metadata": {},
   "source": [
    "## TODO: Logistic Regression + KNN"
   ]
  },
  {
   "cell_type": "code",
   "execution_count": 3,
   "metadata": {},
   "outputs": [
    {
     "name": "stdout",
     "output_type": "stream",
     "text": [
      "{'C': 1, 'degree': 3, 'gamma': 0.05, 'kernel': 'rbf'}\n",
      "0.8159509033134099\n",
      "0.8147668572691362\n",
      "\n",
      "{'C': 1, 'degree': 3, 'gamma': 0.1, 'kernel': 'rbf'}\n",
      "0.8079343428483127\n",
      "0.8057359307359307\n",
      "\n",
      "{'C': 10, 'degree': 3, 'gamma': 0.01, 'kernel': 'rbf'}\n",
      "0.7953714901306643\n",
      "0.786012497235125\n",
      "\n"
     ]
    }
   ],
   "source": [
    "\n",
    "X_train, X_test, y_train, y_test = train_test_split(X, y, test_size=0.20)\n",
    "\n",
    "kernels = [\"linear\", \"poly\", \"rbf\"]\n",
    "c = [1e-7, 1e-6, 1e-5, 1e-4, 1e-3, 0.001, 0.1, 1, 10, 100, 1e3]\n",
    "gamma = [0.001, 0.005, 0.01, 0.05, 0.1, 0.5, 1, 2]\n",
    "degree = [3]\n",
    "parameters = {'kernel': kernels, 'C' : c, 'gamma' : gamma, 'degree' : degree}\n",
    "svm = SVC()\n",
    "search = GridSearchCV(svm, parameters, cv=5, return_train_score=True)\n",
    "search.fit(X_train, y_train)\n",
    "best_params = search.best_params_\n",
    "\n",
    "\n",
    "print(best_params)\n",
    "print(np.mean(search.cv_results_['mean_train_score']))\n",
    "print(np.mean(search.cv_results_['mean_test_score']))\n",
    "print('')\n",
    "\n",
    "\n",
    "X_train, X_test, y_train, y_test = train_test_split(X, y, test_size=0.50)\n",
    "\n",
    "kernels = [\"linear\", \"poly\", \"rbf\"]\n",
    "c = [1e-7, 1e-6, 1e-5, 1e-4, 1e-3, 0.001, 0.1, 1, 10, 100, 1e3]\n",
    "gamma = [0.001, 0.005, 0.01, 0.05, 0.1, 0.5, 1, 2]\n",
    "degree = [3]\n",
    "parameters = {'kernel': kernels, 'C' : c, 'gamma' : gamma, 'degree' : degree}\n",
    "svm = SVC()\n",
    "search = GridSearchCV(svm, parameters, cv=5, return_train_score=True)\n",
    "search.fit(X_train, y_train)\n",
    "best_params = search.best_params_\n",
    "\n",
    "\n",
    "print(best_params)\n",
    "print(np.mean(search.cv_results_['mean_train_score']))\n",
    "print(np.mean(search.cv_results_['mean_test_score']))\n",
    "print('')\n",
    "\n",
    "\n",
    "X_train, X_test, y_train, y_test = train_test_split(X, y, test_size=0.80)\n",
    "\n",
    "kernels = [\"linear\", \"poly\", \"rbf\"]\n",
    "c = [1e-7, 1e-6, 1e-5, 1e-4, 1e-3, 0.001, 0.1, 1, 10, 100, 1e3]\n",
    "gamma = [0.001, 0.005, 0.01, 0.05, 0.1, 0.5, 1, 2]\n",
    "degree = [3]\n",
    "parameters = {'kernel': kernels, 'C' : c, 'gamma' : gamma, 'degree' : degree}\n",
    "svm = SVC()\n",
    "search = GridSearchCV(svm, parameters, cv=5, return_train_score=True)\n",
    "search.fit(X_train, y_train)\n",
    "best_params = search.best_params_\n",
    "\n",
    "\n",
    "print(best_params)\n",
    "print(np.mean(search.cv_results_['mean_train_score']))\n",
    "print(np.mean(search.cv_results_['mean_test_score']))\n",
    "print('')\n",
    "\n",
    "\n",
    "\n",
    "\n",
    "\n",
    "\n",
    "\n",
    "\n",
    "\n",
    "\n",
    "\n",
    "\n",
    "\n",
    "\n",
    "\n",
    "\n",
    "#clf.fit(X_train, y_train)\n",
    "#clf.score(X_test, y_test)\n",
    "\n",
    "\n",
    "#clf = LogisticRegression().fit(X_train, y_train)\n",
    "\n",
    "\n",
    "#neigh = KNeighborsClassifier(n_neighbors=10).fit(X_train, y_train)\n",
    "#neigh.score(X_test, y_test)\n"
   ]
  },
  {
   "cell_type": "code",
   "execution_count": 175,
   "metadata": {},
   "outputs": [
    {
     "name": "stdout",
     "output_type": "stream",
     "text": [
      "{'C': 100, 'degree': 3, 'gamma': 0.005, 'kernel': 'rbf'}\n",
      "0.8133310062014919\n",
      "0.8030994249059942\n"
     ]
    }
   ],
   "source": [
    "#neigh = KNeighborsClassifier(n_neighbors=10).fit(X_train, y_train)\n",
    "#neigh.score(X_test, y_test)"
   ]
  },
  {
   "cell_type": "code",
   "execution_count": null,
   "metadata": {},
   "outputs": [],
   "source": [
    "\n",
    "c = [1e-8, 1e-7, 1e-6, 1e-5, 1e-4 1e-3, 1e-2, 1e-1, 1, 10, 100, 1e3, 1e4]"
   ]
  },
  {
   "cell_type": "markdown",
   "metadata": {},
   "source": [
    "## Unnecessary"
   ]
  },
  {
   "cell_type": "code",
   "execution_count": 8,
   "metadata": {},
   "outputs": [
    {
     "name": "stdout",
     "output_type": "stream",
     "text": [
      "{'C': 1, 'penalty': 'l1'}\n",
      "0.8385389087982152\n",
      "0.8376691676600522\n",
      "\n",
      "{'C': 10, 'penalty': 'l1'}\n",
      "0.8268676943494462\n",
      "0.8250168199147793\n",
      "\n",
      "{'C': 1, 'penalty': 'l2'}\n",
      "0.8067841747293804\n",
      "0.8003930376193151\n",
      "\n"
     ]
    }
   ],
   "source": [
    "X_train, X_test, y_train, y_test = train_test_split(X, y, test_size=0.20)\n",
    "\n",
    "\n",
    "c = [1e-8, 1e-7, 1e-6, 1e-5, 1e-4, 1e-3, 1e-2, 1e-1, 1, 10, 100, 1e3, 1e4]\n",
    "penalty = ['l2', 'l1']\n",
    "parameters = {'C' : c, 'penalty' : penalty}\n",
    "logr = LogisticRegression()\n",
    "search = GridSearchCV(logr, parameters, cv=5, return_train_score=True)\n",
    "search.fit(X_train, y_train)\n",
    "best_params = search.best_params_\n",
    "\n",
    "\n",
    "print(best_params)\n",
    "print(np.mean(search.cv_results_['mean_train_score']))\n",
    "print(np.mean(search.cv_results_['mean_test_score']))\n",
    "print('')\n",
    "\n",
    "\n",
    "\n",
    "X_train, X_test, y_train, y_test = train_test_split(X, y, test_size=0.50)\n",
    "\n",
    "logr = LogisticRegression()\n",
    "search = GridSearchCV(logr, parameters, cv=5, return_train_score=True)\n",
    "search.fit(X_train, y_train)\n",
    "best_params = search.best_params_\n",
    "\n",
    "\n",
    "print(best_params)\n",
    "print(np.mean(search.cv_results_['mean_train_score']))\n",
    "print(np.mean(search.cv_results_['mean_test_score']))\n",
    "print('')\n",
    "\n",
    "\n",
    "X_train, X_test, y_train, y_test = train_test_split(X, y, test_size=0.8)\n",
    "\n",
    "logr = LogisticRegression()\n",
    "search = GridSearchCV(logr, parameters, cv=5, return_train_score=True)\n",
    "search.fit(X_train, y_train)\n",
    "best_params = search.best_params_\n",
    "\n",
    "print(best_params)\n",
    "print(np.mean(search.cv_results_['mean_train_score']))\n",
    "print(np.mean(search.cv_results_['mean_test_score']))\n",
    "print('')\n"
   ]
  },
  {
   "cell_type": "code",
   "execution_count": null,
   "metadata": {},
   "outputs": [],
   "source": []
  }
 ],
 "metadata": {
  "kernelspec": {
   "display_name": "Python 3",
   "language": "python",
   "name": "python3"
  },
  "language_info": {
   "codemirror_mode": {
    "name": "ipython",
    "version": 3
   },
   "file_extension": ".py",
   "mimetype": "text/x-python",
   "name": "python",
   "nbconvert_exporter": "python",
   "pygments_lexer": "ipython3",
   "version": "3.6.5"
  }
 },
 "nbformat": 4,
 "nbformat_minor": 2
}
